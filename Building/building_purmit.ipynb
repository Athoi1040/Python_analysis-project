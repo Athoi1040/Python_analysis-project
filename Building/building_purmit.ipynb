{
 "cells": [
  {
   "cell_type": "code",
   "execution_count": 34,
   "id": "e25b748a-1cc3-42d8-95d2-2859a1a27907",
   "metadata": {},
   "outputs": [],
   "source": [
    "import pandas as pd \n",
    "import numpy as np"
   ]
  },
  {
   "cell_type": "code",
   "execution_count": 35,
   "id": "b135b477-f626-4147-866d-3f74092ed76c",
   "metadata": {},
   "outputs": [
    {
     "name": "stderr",
     "output_type": "stream",
     "text": [
      "C:\\Users\\fuath\\AppData\\Local\\Temp\\ipykernel_9372\\960237942.py:2: DtypeWarning: Columns (22,32) have mixed types. Specify dtype option on import or set low_memory=False.\n",
      "  df = pd.read_csv(\"Building_Permits.csv\", )  # Or header=0 if your file has headers\n"
     ]
    }
   ],
   "source": [
    "# Read TSV data\n",
    "df = pd.read_csv(\"Building_Permits.csv\", )  # Or header=0 if your file has headers"
   ]
  },
  {
   "cell_type": "code",
   "execution_count": 36,
   "id": "efc450dd-3d45-43d4-ba29-51d2494b25e7",
   "metadata": {},
   "outputs": [
    {
     "name": "stdout",
     "output_type": "stream",
     "text": [
      "Permit Number                                  0\n",
      "Permit Type                                    0\n",
      "Permit Type Definition                         0\n",
      "Permit Creation Date                           0\n",
      "Block                                          0\n",
      "Lot                                            0\n",
      "Street Number                                  0\n",
      "Street Number Suffix                      196684\n",
      "Street Name                                    0\n",
      "Street Suffix                               2768\n",
      "Unit                                      169421\n",
      "Unit Suffix                               196939\n",
      "Description                                  290\n",
      "Current Status                                 0\n",
      "Current Status Date                            0\n",
      "Filed Date                                     0\n",
      "Issued Date                                14940\n",
      "Completed Date                            101709\n",
      "First Construction Document Date           14946\n",
      "Structural Notification                   191978\n",
      "Number of Existing Stories                 42784\n",
      "Number of Proposed Stories                 42868\n",
      "Voluntary Soft-Story Retrofit             198865\n",
      "Fire Only Permit                          180073\n",
      "Permit Expiration Date                     51880\n",
      "Estimated Cost                             38066\n",
      "Revised Cost                                6066\n",
      "Existing Use                               41114\n",
      "Existing Units                             51538\n",
      "Proposed Use                               42439\n",
      "Proposed Units                             50911\n",
      "Plansets                                   37309\n",
      "TIDF Compliance                           198898\n",
      "Existing Construction Type                 43366\n",
      "Existing Construction Type Description     43366\n",
      "Proposed Construction Type                 43162\n",
      "Proposed Construction Type Description     43162\n",
      "Site Permit                               193541\n",
      "Supervisor District                         1717\n",
      "Neighborhoods - Analysis Boundaries         1725\n",
      "Zipcode                                     1716\n",
      "Location                                    1700\n",
      "Record ID                                      0\n",
      "dtype: int64\n",
      "<class 'pandas.core.frame.DataFrame'>\n",
      "RangeIndex: 198900 entries, 0 to 198899\n",
      "Data columns (total 43 columns):\n",
      " #   Column                                  Non-Null Count   Dtype  \n",
      "---  ------                                  --------------   -----  \n",
      " 0   Permit Number                           198900 non-null  object \n",
      " 1   Permit Type                             198900 non-null  int64  \n",
      " 2   Permit Type Definition                  198900 non-null  object \n",
      " 3   Permit Creation Date                    198900 non-null  object \n",
      " 4   Block                                   198900 non-null  object \n",
      " 5   Lot                                     198900 non-null  object \n",
      " 6   Street Number                           198900 non-null  int64  \n",
      " 7   Street Number Suffix                    2216 non-null    object \n",
      " 8   Street Name                             198900 non-null  object \n",
      " 9   Street Suffix                           196132 non-null  object \n",
      " 10  Unit                                    29479 non-null   float64\n",
      " 11  Unit Suffix                             1961 non-null    object \n",
      " 12  Description                             198610 non-null  object \n",
      " 13  Current Status                          198900 non-null  object \n",
      " 14  Current Status Date                     198900 non-null  object \n",
      " 15  Filed Date                              198900 non-null  object \n",
      " 16  Issued Date                             183960 non-null  object \n",
      " 17  Completed Date                          97191 non-null   object \n",
      " 18  First Construction Document Date        183954 non-null  object \n",
      " 19  Structural Notification                 6922 non-null    object \n",
      " 20  Number of Existing Stories              156116 non-null  float64\n",
      " 21  Number of Proposed Stories              156032 non-null  float64\n",
      " 22  Voluntary Soft-Story Retrofit           35 non-null      object \n",
      " 23  Fire Only Permit                        18827 non-null   object \n",
      " 24  Permit Expiration Date                  147020 non-null  object \n",
      " 25  Estimated Cost                          160834 non-null  float64\n",
      " 26  Revised Cost                            192834 non-null  float64\n",
      " 27  Existing Use                            157786 non-null  object \n",
      " 28  Existing Units                          147362 non-null  float64\n",
      " 29  Proposed Use                            156461 non-null  object \n",
      " 30  Proposed Units                          147989 non-null  float64\n",
      " 31  Plansets                                161591 non-null  float64\n",
      " 32  TIDF Compliance                         2 non-null       object \n",
      " 33  Existing Construction Type              155534 non-null  float64\n",
      " 34  Existing Construction Type Description  155534 non-null  object \n",
      " 35  Proposed Construction Type              155738 non-null  float64\n",
      " 36  Proposed Construction Type Description  155738 non-null  object \n",
      " 37  Site Permit                             5359 non-null    object \n",
      " 38  Supervisor District                     197183 non-null  float64\n",
      " 39  Neighborhoods - Analysis Boundaries     197175 non-null  object \n",
      " 40  Zipcode                                 197184 non-null  float64\n",
      " 41  Location                                197200 non-null  object \n",
      " 42  Record ID                               198900 non-null  int64  \n",
      "dtypes: float64(12), int64(3), object(28)\n",
      "memory usage: 65.3+ MB\n",
      "None\n"
     ]
    }
   ],
   "source": [
    "print(df.isnull().sum())  # Count missing values per column\n",
    "print(df.info())          # Summary of data types and nulls\n"
   ]
  },
  {
   "cell_type": "code",
   "execution_count": 37,
   "id": "13c4b340-62f5-4897-a4a5-ac5bf37c0438",
   "metadata": {},
   "outputs": [],
   "source": [
    "# Find columns with missing values\n",
    "null_columns = df.columns[df.isnull().any()].tolist()\n",
    "\n",
    "# Count missing values in each null column\n",
    "null_counts = df[null_columns].isnull().sum()"
   ]
  },
  {
   "cell_type": "code",
   "execution_count": 38,
   "id": "8fa2f09b-e285-4863-a98d-0f70a0f276a9",
   "metadata": {},
   "outputs": [
    {
     "name": "stdout",
     "output_type": "stream",
     "text": [
      "Columns with missing values:\n",
      "Street Number Suffix                      196684\n",
      "Street Suffix                               2768\n",
      "Unit                                      169421\n",
      "Unit Suffix                               196939\n",
      "Description                                  290\n",
      "Issued Date                                14940\n",
      "Completed Date                            101709\n",
      "First Construction Document Date           14946\n",
      "Structural Notification                   191978\n",
      "Number of Existing Stories                 42784\n",
      "Number of Proposed Stories                 42868\n",
      "Voluntary Soft-Story Retrofit             198865\n",
      "Fire Only Permit                          180073\n",
      "Permit Expiration Date                     51880\n",
      "Estimated Cost                             38066\n",
      "Revised Cost                                6066\n",
      "Existing Use                               41114\n",
      "Existing Units                             51538\n",
      "Proposed Use                               42439\n",
      "Proposed Units                             50911\n",
      "Plansets                                   37309\n",
      "TIDF Compliance                           198898\n",
      "Existing Construction Type                 43366\n",
      "Existing Construction Type Description     43366\n",
      "Proposed Construction Type                 43162\n",
      "Proposed Construction Type Description     43162\n",
      "Site Permit                               193541\n",
      "Supervisor District                         1717\n",
      "Neighborhoods - Analysis Boundaries         1725\n",
      "Zipcode                                     1716\n",
      "Location                                    1700\n",
      "dtype: int64\n"
     ]
    }
   ],
   "source": [
    "# Display result\n",
    "print(\"Columns with missing values:\")\n",
    "print(null_counts)"
   ]
  },
  {
   "cell_type": "code",
   "execution_count": 39,
   "id": "90281f1c-3038-42c8-92c1-2784e394afa0",
   "metadata": {},
   "outputs": [],
   "source": [
    "# Drop all columns that contain any NaN (missing) values\n",
    "df_cleaned = df.dropna(axis=1, how='any')\n",
    "\n"
   ]
  },
  {
   "cell_type": "code",
   "execution_count": 40,
   "id": "8485a64b-45fe-44b6-ab20-aaf403756ee5",
   "metadata": {},
   "outputs": [
    {
     "name": "stdout",
     "output_type": "stream",
     "text": [
      "<class 'pandas.core.frame.DataFrame'>\n",
      "RangeIndex: 198900 entries, 0 to 198899\n",
      "Data columns (total 12 columns):\n",
      " #   Column                  Non-Null Count   Dtype \n",
      "---  ------                  --------------   ----- \n",
      " 0   Permit Number           198900 non-null  object\n",
      " 1   Permit Type             198900 non-null  int64 \n",
      " 2   Permit Type Definition  198900 non-null  object\n",
      " 3   Permit Creation Date    198900 non-null  object\n",
      " 4   Block                   198900 non-null  object\n",
      " 5   Lot                     198900 non-null  object\n",
      " 6   Street Number           198900 non-null  int64 \n",
      " 7   Street Name             198900 non-null  object\n",
      " 8   Current Status          198900 non-null  object\n",
      " 9   Current Status Date     198900 non-null  object\n",
      " 10  Filed Date              198900 non-null  object\n",
      " 11  Record ID               198900 non-null  int64 \n",
      "dtypes: int64(3), object(9)\n",
      "memory usage: 18.2+ MB\n",
      "None\n"
     ]
    }
   ],
   "source": [
    "# Preview the cleaned DataFrame\n",
    "print(df_cleaned.info())\n"
   ]
  },
  {
   "cell_type": "code",
   "execution_count": 41,
   "id": "25db85eb-218a-4964-80b2-c66135b03750",
   "metadata": {},
   "outputs": [
    {
     "name": "stdout",
     "output_type": "stream",
     "text": [
      "<class 'pandas.core.frame.DataFrame'>\n",
      "RangeIndex: 198900 entries, 0 to 198899\n",
      "Data columns (total 12 columns):\n",
      " #   Column                  Non-Null Count   Dtype \n",
      "---  ------                  --------------   ----- \n",
      " 0   Permit Number           198900 non-null  object\n",
      " 1   Permit Type             198900 non-null  int64 \n",
      " 2   Permit Type Definition  198900 non-null  object\n",
      " 3   Permit Creation Date    198900 non-null  object\n",
      " 4   Block                   198900 non-null  object\n",
      " 5   Lot                     198900 non-null  object\n",
      " 6   Street Number           198900 non-null  int64 \n",
      " 7   Street Name             198900 non-null  object\n",
      " 8   Current Status          198900 non-null  object\n",
      " 9   Current Status Date     198900 non-null  object\n",
      " 10  Filed Date              198900 non-null  object\n",
      " 11  Record ID               198900 non-null  int64 \n",
      "dtypes: int64(3), object(9)\n",
      "memory usage: 18.2+ MB\n",
      "None\n"
     ]
    }
   ],
   "source": [
    "# Drop columns with any null value\n",
    "df_no_null_cols = df.dropna(axis=1, how='any')\n",
    "\n",
    "print(df_no_null_cols.info())"
   ]
  },
  {
   "cell_type": "code",
   "execution_count": 42,
   "id": "6ab5ae5e-c983-4323-9652-afdc1fe8d0f8",
   "metadata": {},
   "outputs": [],
   "source": [
    "# Replace common placeholders with actual NaN\n",
    "df.replace(['', 'NA', 'NaN'], np.nan, inplace=True)"
   ]
  },
  {
   "cell_type": "code",
   "execution_count": 43,
   "id": "a673c79e-12bb-4c2b-ac36-7696d3428f42",
   "metadata": {},
   "outputs": [],
   "source": [
    "\n",
    "# Drop columns with any missing values\n",
    "df.dropna(axis=1, how='any', inplace=True)"
   ]
  },
  {
   "cell_type": "code",
   "execution_count": 44,
   "id": "9f0ddb53-4be0-4300-8e23-226ca54ae9c4",
   "metadata": {},
   "outputs": [
    {
     "name": "stdout",
     "output_type": "stream",
     "text": [
      "Remaining columns: ['Permit Number', 'Permit Type', 'Permit Type Definition', 'Permit Creation Date', 'Block', 'Lot', 'Street Number', 'Street Name', 'Current Status', 'Current Status Date', 'Filed Date', 'Record ID']\n"
     ]
    }
   ],
   "source": [
    "print(\"Remaining columns:\", df.columns.tolist())"
   ]
  },
  {
   "cell_type": "code",
   "execution_count": 45,
   "id": "8152feb9-e91a-4add-8e00-284603c08a0a",
   "metadata": {},
   "outputs": [
    {
     "name": "stdout",
     "output_type": "stream",
     "text": [
      "Permit Number             0\n",
      "Permit Type               0\n",
      "Permit Type Definition    0\n",
      "Permit Creation Date      0\n",
      "Block                     0\n",
      "Lot                       0\n",
      "Street Number             0\n",
      "Street Name               0\n",
      "Current Status            0\n",
      "Current Status Date       0\n",
      "Filed Date                0\n",
      "Record ID                 0\n",
      "dtype: int64\n"
     ]
    }
   ],
   "source": [
    "print(df.isnull().sum())\n"
   ]
  },
  {
   "cell_type": "code",
   "execution_count": 46,
   "id": "80be7c4e-8646-4708-af94-d4e9b1c36fec",
   "metadata": {},
   "outputs": [
    {
     "data": {
      "text/html": [
       "<div>\n",
       "<style scoped>\n",
       "    .dataframe tbody tr th:only-of-type {\n",
       "        vertical-align: middle;\n",
       "    }\n",
       "\n",
       "    .dataframe tbody tr th {\n",
       "        vertical-align: top;\n",
       "    }\n",
       "\n",
       "    .dataframe thead th {\n",
       "        text-align: right;\n",
       "    }\n",
       "</style>\n",
       "<table border=\"1\" class=\"dataframe\">\n",
       "  <thead>\n",
       "    <tr style=\"text-align: right;\">\n",
       "      <th></th>\n",
       "      <th>Permit Number</th>\n",
       "      <th>Permit Type</th>\n",
       "      <th>Permit Type Definition</th>\n",
       "      <th>Permit Creation Date</th>\n",
       "      <th>Block</th>\n",
       "      <th>Lot</th>\n",
       "      <th>Street Number</th>\n",
       "      <th>Street Name</th>\n",
       "      <th>Current Status</th>\n",
       "      <th>Current Status Date</th>\n",
       "      <th>Filed Date</th>\n",
       "      <th>Record ID</th>\n",
       "    </tr>\n",
       "  </thead>\n",
       "  <tbody>\n",
       "    <tr>\n",
       "      <th>0</th>\n",
       "      <td>201505065519</td>\n",
       "      <td>4</td>\n",
       "      <td>sign - erect</td>\n",
       "      <td>05/06/2015</td>\n",
       "      <td>0326</td>\n",
       "      <td>023</td>\n",
       "      <td>140</td>\n",
       "      <td>Ellis</td>\n",
       "      <td>expired</td>\n",
       "      <td>12/21/2017</td>\n",
       "      <td>05/06/2015</td>\n",
       "      <td>1380611233945</td>\n",
       "    </tr>\n",
       "    <tr>\n",
       "      <th>1</th>\n",
       "      <td>201604195146</td>\n",
       "      <td>4</td>\n",
       "      <td>sign - erect</td>\n",
       "      <td>04/19/2016</td>\n",
       "      <td>0306</td>\n",
       "      <td>007</td>\n",
       "      <td>440</td>\n",
       "      <td>Geary</td>\n",
       "      <td>issued</td>\n",
       "      <td>08/03/2017</td>\n",
       "      <td>04/19/2016</td>\n",
       "      <td>1420164406718</td>\n",
       "    </tr>\n",
       "    <tr>\n",
       "      <th>2</th>\n",
       "      <td>201605278609</td>\n",
       "      <td>3</td>\n",
       "      <td>additions alterations or repairs</td>\n",
       "      <td>05/27/2016</td>\n",
       "      <td>0595</td>\n",
       "      <td>203</td>\n",
       "      <td>1647</td>\n",
       "      <td>Pacific</td>\n",
       "      <td>withdrawn</td>\n",
       "      <td>09/26/2017</td>\n",
       "      <td>05/27/2016</td>\n",
       "      <td>1424856504716</td>\n",
       "    </tr>\n",
       "    <tr>\n",
       "      <th>3</th>\n",
       "      <td>201611072166</td>\n",
       "      <td>8</td>\n",
       "      <td>otc alterations permit</td>\n",
       "      <td>11/07/2016</td>\n",
       "      <td>0156</td>\n",
       "      <td>011</td>\n",
       "      <td>1230</td>\n",
       "      <td>Pacific</td>\n",
       "      <td>complete</td>\n",
       "      <td>07/24/2017</td>\n",
       "      <td>11/07/2016</td>\n",
       "      <td>1443574295566</td>\n",
       "    </tr>\n",
       "    <tr>\n",
       "      <th>4</th>\n",
       "      <td>201611283529</td>\n",
       "      <td>6</td>\n",
       "      <td>demolitions</td>\n",
       "      <td>11/28/2016</td>\n",
       "      <td>0342</td>\n",
       "      <td>001</td>\n",
       "      <td>950</td>\n",
       "      <td>Market</td>\n",
       "      <td>issued</td>\n",
       "      <td>12/01/2017</td>\n",
       "      <td>11/28/2016</td>\n",
       "      <td>144548169992</td>\n",
       "    </tr>\n",
       "  </tbody>\n",
       "</table>\n",
       "</div>"
      ],
      "text/plain": [
       "  Permit Number  Permit Type            Permit Type Definition  \\\n",
       "0  201505065519            4                      sign - erect   \n",
       "1  201604195146            4                      sign - erect   \n",
       "2  201605278609            3  additions alterations or repairs   \n",
       "3  201611072166            8            otc alterations permit   \n",
       "4  201611283529            6                       demolitions   \n",
       "\n",
       "  Permit Creation Date Block  Lot  Street Number Street Name Current Status  \\\n",
       "0           05/06/2015  0326  023            140       Ellis        expired   \n",
       "1           04/19/2016  0306  007            440       Geary         issued   \n",
       "2           05/27/2016  0595  203           1647     Pacific      withdrawn   \n",
       "3           11/07/2016  0156  011           1230     Pacific       complete   \n",
       "4           11/28/2016  0342  001            950      Market         issued   \n",
       "\n",
       "  Current Status Date  Filed Date      Record ID  \n",
       "0          12/21/2017  05/06/2015  1380611233945  \n",
       "1          08/03/2017  04/19/2016  1420164406718  \n",
       "2          09/26/2017  05/27/2016  1424856504716  \n",
       "3          07/24/2017  11/07/2016  1443574295566  \n",
       "4          12/01/2017  11/28/2016   144548169992  "
      ]
     },
     "execution_count": 46,
     "metadata": {},
     "output_type": "execute_result"
    }
   ],
   "source": [
    "df.head()"
   ]
  },
  {
   "cell_type": "code",
   "execution_count": 49,
   "id": "bbfa3848-9d5e-4854-ad20-43f7a8ee98d6",
   "metadata": {},
   "outputs": [],
   "source": [
    "import matplotlib.pyplot as plt\n",
    "import seaborn as sns"
   ]
  },
  {
   "cell_type": "code",
   "execution_count": 56,
   "id": "e7299527-3ae2-4c2a-a0a0-4c6f4d46db0a",
   "metadata": {},
   "outputs": [
    {
     "data": {
      "text/plain": [
       "<Figure size 800x500 with 0 Axes>"
      ]
     },
     "execution_count": 56,
     "metadata": {},
     "output_type": "execute_result"
    },
    {
     "data": {
      "text/plain": [
       "<Figure size 800x500 with 0 Axes>"
      ]
     },
     "metadata": {},
     "output_type": "display_data"
    }
   ],
   "source": [
    "\n",
    "plt.figure(figsize=(8,5))"
   ]
  },
  {
   "cell_type": "code",
   "execution_count": 59,
   "id": "c85d4aca-401b-46e7-96dd-595526d6dbfe",
   "metadata": {},
   "outputs": [
    {
     "data": {
      "image/png": "[encoded data removed]",
      "text/plain": [
       "<Figure size 640x480 with 1 Axes>"
      ]
     },
     "metadata": {},
     "output_type": "display_data"
    }
   ],
   "source": [
    "# Use the DataFrame df and access the column by string key\n",
    "df['Current Status'].value_counts().plot(kind='bar', color='skyblue')\n",
    "plt.title('Current Status')\n",
    "plt.xlabel('Status')\n",
    "plt.ylabel('Count')\n",
    "plt.xticks(rotation=45)\n",
    "plt.tight_layout()\n",
    "plt.show()"
   ]
  },
  {
   "cell_type": "code",
   "execution_count": null,
   "id": "7f07302d-b548-41ac-a7b0-7d71a8fd677b",
   "metadata": {},
   "outputs": [],
   "source": []
  }
 ],
 "metadata": {
  "kernelspec": {
   "display_name": "Python 3 (ipykernel)",
   "language": "python",
   "name": "python3"
  },
  "language_info": {
   "codemirror_mode": {
    "name": "ipython",
    "version": 3
   },
   "file_extension": ".py",
   "mimetype": "text/x-python",
   "name": "python",
   "nbconvert_exporter": "python",
   "pygments_lexer": "ipython3",
   "version": "3.10.8"
  },
  "widgets": {
   "application/vnd.jupyter.widget-state+json": {
    "state": {},
    "version_major": 2,
    "version_minor": 0
   }
  }
 },
 "nbformat": 4,
 "nbformat_minor": 5
}
