{
 "cells": [
  {
   "cell_type": "code",
   "execution_count": 4,
   "id": "a288ef49-ad33-42b0-9ed7-2365d8557ae8",
   "metadata": {},
   "outputs": [],
   "source": [
    "# Import core libraries\n",
    "import pandas as pd\n",
    "import numpy as np\n",
    "import matplotlib.pyplot as plt\n"
   ]
  },
  {
   "cell_type": "code",
   "execution_count": 5,
   "id": "a5924655-b0d8-4104-ba92-59c0cdb262f2",
   "metadata": {},
   "outputs": [],
   "source": [
    "# Load  dataset (replace with actual path)\n",
    "df = pd.read_csv(\"UberDatasetCleaned.csv\")"
   ]
  },
  {
   "cell_type": "code",
   "execution_count": 6,
   "id": "b12de6a0-e529-4b90-afcd-217fc61bc911",
   "metadata": {},
   "outputs": [
    {
     "data": {
      "text/html": [
       "<div>\n",
       "<style scoped>\n",
       "    .dataframe tbody tr th:only-of-type {\n",
       "        vertical-align: middle;\n",
       "    }\n",
       "\n",
       "    .dataframe tbody tr th {\n",
       "        vertical-align: top;\n",
       "    }\n",
       "\n",
       "    .dataframe thead th {\n",
       "        text-align: right;\n",
       "    }\n",
       "</style>\n",
       "<table border=\"1\" class=\"dataframe\">\n",
       "  <thead>\n",
       "    <tr style=\"text-align: right;\">\n",
       "      <th></th>\n",
       "      <th>start_date</th>\n",
       "      <th>start_hour</th>\n",
       "      <th>start_minute</th>\n",
       "      <th>end_date</th>\n",
       "      <th>end_hour</th>\n",
       "      <th>end_minute</th>\n",
       "      <th>month</th>\n",
       "      <th>year</th>\n",
       "      <th>CATEGORY</th>\n",
       "      <th>START</th>\n",
       "      <th>STOP</th>\n",
       "      <th>MILES</th>\n",
       "      <th>PURPOSE</th>\n",
       "      <th>duration</th>\n",
       "      <th>speed</th>\n",
       "      <th>day</th>\n",
       "      <th>day_time</th>\n",
       "    </tr>\n",
       "  </thead>\n",
       "  <tbody>\n",
       "    <tr>\n",
       "      <th>0</th>\n",
       "      <td>2016-01-01</td>\n",
       "      <td>21.0</td>\n",
       "      <td>11.0</td>\n",
       "      <td>2016-01-01</td>\n",
       "      <td>21.0</td>\n",
       "      <td>17.0</td>\n",
       "      <td>Jan</td>\n",
       "      <td>2016</td>\n",
       "      <td>Business</td>\n",
       "      <td>Fort Pierce</td>\n",
       "      <td>Fort Pierce</td>\n",
       "      <td>8.207634</td>\n",
       "      <td>Meal/Entertain</td>\n",
       "      <td>6.0</td>\n",
       "      <td>82.076340</td>\n",
       "      <td>Friday</td>\n",
       "      <td>Evening</td>\n",
       "    </tr>\n",
       "    <tr>\n",
       "      <th>1</th>\n",
       "      <td>2016-01-02</td>\n",
       "      <td>1.0</td>\n",
       "      <td>25.0</td>\n",
       "      <td>2016-01-02</td>\n",
       "      <td>1.0</td>\n",
       "      <td>37.0</td>\n",
       "      <td>Jan</td>\n",
       "      <td>2016</td>\n",
       "      <td>Business</td>\n",
       "      <td>Fort Pierce</td>\n",
       "      <td>Fort Pierce</td>\n",
       "      <td>8.046700</td>\n",
       "      <td>Meal/Entertain</td>\n",
       "      <td>12.0</td>\n",
       "      <td>40.233500</td>\n",
       "      <td>Saturday</td>\n",
       "      <td>Night</td>\n",
       "    </tr>\n",
       "    <tr>\n",
       "      <th>2</th>\n",
       "      <td>2016-01-02</td>\n",
       "      <td>20.0</td>\n",
       "      <td>25.0</td>\n",
       "      <td>2016-01-02</td>\n",
       "      <td>20.0</td>\n",
       "      <td>38.0</td>\n",
       "      <td>Jan</td>\n",
       "      <td>2016</td>\n",
       "      <td>Business</td>\n",
       "      <td>Fort Pierce</td>\n",
       "      <td>Fort Pierce</td>\n",
       "      <td>7.724832</td>\n",
       "      <td>Errand/Supplies</td>\n",
       "      <td>13.0</td>\n",
       "      <td>35.653071</td>\n",
       "      <td>Saturday</td>\n",
       "      <td>Evening</td>\n",
       "    </tr>\n",
       "    <tr>\n",
       "      <th>3</th>\n",
       "      <td>2016-01-05</td>\n",
       "      <td>17.0</td>\n",
       "      <td>31.0</td>\n",
       "      <td>2016-01-05</td>\n",
       "      <td>17.0</td>\n",
       "      <td>45.0</td>\n",
       "      <td>Jan</td>\n",
       "      <td>2016</td>\n",
       "      <td>Business</td>\n",
       "      <td>Fort Pierce</td>\n",
       "      <td>Fort Pierce</td>\n",
       "      <td>7.563898</td>\n",
       "      <td>Meeting</td>\n",
       "      <td>14.0</td>\n",
       "      <td>32.416706</td>\n",
       "      <td>Tuesday</td>\n",
       "      <td>Afternoon</td>\n",
       "    </tr>\n",
       "    <tr>\n",
       "      <th>4</th>\n",
       "      <td>2016-01-06</td>\n",
       "      <td>14.0</td>\n",
       "      <td>42.0</td>\n",
       "      <td>2016-01-06</td>\n",
       "      <td>15.0</td>\n",
       "      <td>49.0</td>\n",
       "      <td>Jan</td>\n",
       "      <td>2016</td>\n",
       "      <td>Business</td>\n",
       "      <td>Fort Pierce</td>\n",
       "      <td>West Palm Beach</td>\n",
       "      <td>102.514958</td>\n",
       "      <td>Customer Visit</td>\n",
       "      <td>67.0</td>\n",
       "      <td>91.804440</td>\n",
       "      <td>Wednesday</td>\n",
       "      <td>Afternoon</td>\n",
       "    </tr>\n",
       "  </tbody>\n",
       "</table>\n",
       "</div>"
      ],
      "text/plain": [
       "   start_date  start_hour  start_minute    end_date  end_hour  end_minute  \\\n",
       "0  2016-01-01        21.0          11.0  2016-01-01      21.0        17.0   \n",
       "1  2016-01-02         1.0          25.0  2016-01-02       1.0        37.0   \n",
       "2  2016-01-02        20.0          25.0  2016-01-02      20.0        38.0   \n",
       "3  2016-01-05        17.0          31.0  2016-01-05      17.0        45.0   \n",
       "4  2016-01-06        14.0          42.0  2016-01-06      15.0        49.0   \n",
       "\n",
       "  month  year  CATEGORY        START             STOP       MILES  \\\n",
       "0   Jan  2016  Business  Fort Pierce      Fort Pierce    8.207634   \n",
       "1   Jan  2016  Business  Fort Pierce      Fort Pierce    8.046700   \n",
       "2   Jan  2016  Business  Fort Pierce      Fort Pierce    7.724832   \n",
       "3   Jan  2016  Business  Fort Pierce      Fort Pierce    7.563898   \n",
       "4   Jan  2016  Business  Fort Pierce  West Palm Beach  102.514958   \n",
       "\n",
       "           PURPOSE  duration      speed        day   day_time  \n",
       "0   Meal/Entertain       6.0  82.076340     Friday    Evening  \n",
       "1   Meal/Entertain      12.0  40.233500   Saturday      Night  \n",
       "2  Errand/Supplies      13.0  35.653071   Saturday    Evening  \n",
       "3          Meeting      14.0  32.416706    Tuesday  Afternoon  \n",
       "4   Customer Visit      67.0  91.804440  Wednesday  Afternoon  "
      ]
     },
     "execution_count": 6,
     "metadata": {},
     "output_type": "execute_result"
    }
   ],
   "source": [
    "df.head()"
   ]
  },
  {
   "cell_type": "code",
   "execution_count": 7,
   "id": "8dadf254-b751-469f-8e8f-7cc291d734b1",
   "metadata": {},
   "outputs": [
    {
     "name": "stdout",
     "output_type": "stream",
     "text": [
      "0    2016-01-01\n",
      "1    2016-01-02\n",
      "2    2016-01-02\n",
      "3    2016-01-05\n",
      "4    2016-01-06\n",
      "5    2016-01-06\n",
      "6    2016-01-06\n",
      "7    2016-01-07\n",
      "8    2016-01-10\n",
      "9    2016-01-10\n",
      "Name: start_date, dtype: object\n"
     ]
    }
   ],
   "source": [
    "print(df['start_date'].head(10))\n"
   ]
  },
  {
   "cell_type": "code",
   "execution_count": 8,
   "id": "ad91d7fd-f841-419b-a01e-9167aef15fc3",
   "metadata": {},
   "outputs": [
    {
     "data": {
      "text/plain": [
       "(1141, 17)"
      ]
     },
     "execution_count": 8,
     "metadata": {},
     "output_type": "execute_result"
    }
   ],
   "source": [
    "df.shape\n"
   ]
  },
  {
   "cell_type": "code",
   "execution_count": 9,
   "id": "ff7cecf6-5c73-461d-a43c-f2e2d3a04b8b",
   "metadata": {},
   "outputs": [
    {
     "data": {
      "text/plain": [
       "<bound method DataFrame.info of       start_date  start_hour  start_minute    end_date  end_hour  end_minute  \\\n",
       "0     2016-01-01        21.0          11.0  2016-01-01      21.0        17.0   \n",
       "1     2016-01-02         1.0          25.0  2016-01-02       1.0        37.0   \n",
       "2     2016-01-02        20.0          25.0  2016-01-02      20.0        38.0   \n",
       "3     2016-01-05        17.0          31.0  2016-01-05      17.0        45.0   \n",
       "4     2016-01-06        14.0          42.0  2016-01-06      15.0        49.0   \n",
       "...          ...         ...           ...         ...       ...         ...   \n",
       "1136  2016-12-31         1.0           7.0  2016-12-31       1.0        14.0   \n",
       "1137  2016-12-31        13.0          24.0  2016-12-31      13.0        42.0   \n",
       "1138  2016-12-31        15.0           3.0  2016-12-31      15.0        38.0   \n",
       "1139  2016-12-31        21.0          32.0  2016-12-31      21.0        50.0   \n",
       "1140  2016-12-31        22.0           8.0  2016-12-31      23.0        51.0   \n",
       "\n",
       "     month  year  CATEGORY             START              STOP       MILES  \\\n",
       "0      Jan  2016  Business       Fort Pierce       Fort Pierce    8.207634   \n",
       "1      Jan  2016  Business       Fort Pierce       Fort Pierce    8.046700   \n",
       "2      Jan  2016  Business       Fort Pierce       Fort Pierce    7.724832   \n",
       "3      Jan  2016  Business       Fort Pierce       Fort Pierce    7.563898   \n",
       "4      Jan  2016  Business       Fort Pierce   West Palm Beach  102.514958   \n",
       "...    ...   ...       ...               ...               ...         ...   \n",
       "1136   Dec  2016  Business           Kar?chi           Kar?chi    1.126538   \n",
       "1137   Dec  2016  Business           Kar?chi  Unknown Location    6.276426   \n",
       "1138   Dec  2016  Business  Unknown Location  Unknown Location   26.071308   \n",
       "1139   Dec  2016  Business        Katunayake           Gampaha   10.299776   \n",
       "1140   Dec  2016  Business           Gampaha         Ilukwatta   77.570188   \n",
       "\n",
       "              PURPOSE  duration      speed        day   day_time  \n",
       "0      Meal/Entertain       6.0  82.076340     Friday    Evening  \n",
       "1      Meal/Entertain      12.0  40.233500   Saturday      Night  \n",
       "2     Errand/Supplies      13.0  35.653071   Saturday    Evening  \n",
       "3             Meeting      14.0  32.416706    Tuesday  Afternoon  \n",
       "4      Customer Visit      67.0  91.804440  Wednesday  Afternoon  \n",
       "...               ...       ...        ...        ...        ...  \n",
       "1136          Meeting       7.0   9.656040   Saturday      Night  \n",
       "1137   Temporary Site      18.0  20.921420   Saturday  Afternoon  \n",
       "1138          Meeting      35.0  44.693671   Saturday  Afternoon  \n",
       "1139   Temporary Site      18.0  34.332587   Saturday    Evening  \n",
       "1140   Temporary Site     103.0  45.186517   Saturday    Evening  \n",
       "\n",
       "[1141 rows x 17 columns]>"
      ]
     },
     "execution_count": 9,
     "metadata": {},
     "output_type": "execute_result"
    }
   ],
   "source": [
    "df.info"
   ]
  },
  {
   "cell_type": "code",
   "execution_count": 10,
   "id": "3d840b76-f0df-4fd9-9630-1682c4a92340",
   "metadata": {},
   "outputs": [
    {
     "data": {
      "text/plain": [
       "np.int64(0)"
      ]
     },
     "execution_count": 10,
     "metadata": {},
     "output_type": "execute_result"
    }
   ],
   "source": [
    "df['start_date'].isna().sum()\n"
   ]
  },
  {
   "cell_type": "code",
   "execution_count": 11,
   "id": "ec74f094-30be-4d98-9d40-ce7660cb4ec9",
   "metadata": {},
   "outputs": [
    {
     "data": {
      "text/plain": [
       "start_date      0\n",
       "start_hour      0\n",
       "start_minute    0\n",
       "end_date        0\n",
       "end_hour        0\n",
       "end_minute      0\n",
       "month           0\n",
       "year            0\n",
       "CATEGORY        0\n",
       "START           0\n",
       "STOP            0\n",
       "MILES           0\n",
       "PURPOSE         0\n",
       "duration        0\n",
       "speed           0\n",
       "day             0\n",
       "day_time        0\n",
       "dtype: int64"
      ]
     },
     "execution_count": 11,
     "metadata": {},
     "output_type": "execute_result"
    }
   ],
   "source": [
    "df.isna().sum()\n"
   ]
  },
  {
   "cell_type": "markdown",
   "id": "dc7649a5-408a-4e1b-9ff4-328b55770034",
   "metadata": {},
   "source": [
    "### Data preprocessing"
   ]
  },
  {
   "cell_type": "code",
   "execution_count": 12,
   "id": "dce05333-2ecd-42c3-889c-f76b81c3dd25",
   "metadata": {},
   "outputs": [
    {
     "name": "stdout",
     "output_type": "stream",
     "text": [
      "start_date       object\n",
      "start_hour      float64\n",
      "start_minute    float64\n",
      "end_date         object\n",
      "end_hour        float64\n",
      "end_minute      float64\n",
      "month            object\n",
      "year              int64\n",
      "CATEGORY         object\n",
      "START            object\n",
      "STOP             object\n",
      "MILES           float64\n",
      "PURPOSE          object\n",
      "duration        float64\n",
      "speed           float64\n",
      "day              object\n",
      "day_time         object\n",
      "dtype: object\n"
     ]
    }
   ],
   "source": [
    "print(df.dtypes)\n"
   ]
  },
  {
   "cell_type": "code",
   "execution_count": 13,
   "id": "fdb7e2ab-792e-4a35-8676-40ad91ca37fd",
   "metadata": {},
   "outputs": [],
   "source": [
    "\n",
    "# Convert 'start_date' to datetime to use in time series aggregation\n",
    "df['start_date'] = pd.to_datetime(df['start_date'], errors='coerce')"
   ]
  },
  {
   "cell_type": "code",
   "execution_count": 14,
   "id": "e99e5039-9c22-45f7-9762-6ee4683b6018",
   "metadata": {},
   "outputs": [],
   "source": [
    "df['end_date'] = pd.to_datetime(df['end_date'], errors='coerce')"
   ]
  },
  {
   "cell_type": "code",
   "execution_count": 15,
   "id": "475dc3d4-a823-4f2b-a764-c60e6fe116a8",
   "metadata": {},
   "outputs": [
    {
     "name": "stdout",
     "output_type": "stream",
     "text": [
      "start_date      datetime64[ns]\n",
      "start_hour             float64\n",
      "start_minute           float64\n",
      "end_date        datetime64[ns]\n",
      "end_hour               float64\n",
      "end_minute             float64\n",
      "month                   object\n",
      "year                     int64\n",
      "CATEGORY                object\n",
      "START                   object\n",
      "STOP                    object\n",
      "MILES                  float64\n",
      "PURPOSE                 object\n",
      "duration               float64\n",
      "speed                  float64\n",
      "day                     object\n",
      "day_time                object\n",
      "dtype: object\n"
     ]
    }
   ],
   "source": [
    "print(df.dtypes)\n"
   ]
  },
  {
   "cell_type": "code",
   "execution_count": 16,
   "id": "aabaccd0-dbc7-4ca9-b7b4-8f135b33cccb",
   "metadata": {},
   "outputs": [
    {
     "data": {
      "text/html": [
       "<div>\n",
       "<style scoped>\n",
       "    .dataframe tbody tr th:only-of-type {\n",
       "        vertical-align: middle;\n",
       "    }\n",
       "\n",
       "    .dataframe tbody tr th {\n",
       "        vertical-align: top;\n",
       "    }\n",
       "\n",
       "    .dataframe thead th {\n",
       "        text-align: right;\n",
       "    }\n",
       "</style>\n",
       "<table border=\"1\" class=\"dataframe\">\n",
       "  <thead>\n",
       "    <tr style=\"text-align: right;\">\n",
       "      <th></th>\n",
       "      <th>start_date</th>\n",
       "      <th>start_hour</th>\n",
       "      <th>start_minute</th>\n",
       "      <th>end_date</th>\n",
       "      <th>end_hour</th>\n",
       "      <th>end_minute</th>\n",
       "      <th>month</th>\n",
       "      <th>year</th>\n",
       "      <th>CATEGORY</th>\n",
       "      <th>START</th>\n",
       "      <th>STOP</th>\n",
       "      <th>MILES</th>\n",
       "      <th>PURPOSE</th>\n",
       "      <th>duration</th>\n",
       "      <th>speed</th>\n",
       "      <th>day</th>\n",
       "      <th>day_time</th>\n",
       "    </tr>\n",
       "  </thead>\n",
       "  <tbody>\n",
       "    <tr>\n",
       "      <th>0</th>\n",
       "      <td>2016-01-01</td>\n",
       "      <td>21.0</td>\n",
       "      <td>11.0</td>\n",
       "      <td>2016-01-01</td>\n",
       "      <td>21.0</td>\n",
       "      <td>17.0</td>\n",
       "      <td>Jan</td>\n",
       "      <td>2016</td>\n",
       "      <td>Business</td>\n",
       "      <td>Fort Pierce</td>\n",
       "      <td>Fort Pierce</td>\n",
       "      <td>8.207634</td>\n",
       "      <td>Meal/Entertain</td>\n",
       "      <td>6.0</td>\n",
       "      <td>82.076340</td>\n",
       "      <td>Friday</td>\n",
       "      <td>Evening</td>\n",
       "    </tr>\n",
       "    <tr>\n",
       "      <th>1</th>\n",
       "      <td>2016-01-02</td>\n",
       "      <td>1.0</td>\n",
       "      <td>25.0</td>\n",
       "      <td>2016-01-02</td>\n",
       "      <td>1.0</td>\n",
       "      <td>37.0</td>\n",
       "      <td>Jan</td>\n",
       "      <td>2016</td>\n",
       "      <td>Business</td>\n",
       "      <td>Fort Pierce</td>\n",
       "      <td>Fort Pierce</td>\n",
       "      <td>8.046700</td>\n",
       "      <td>Meal/Entertain</td>\n",
       "      <td>12.0</td>\n",
       "      <td>40.233500</td>\n",
       "      <td>Saturday</td>\n",
       "      <td>Night</td>\n",
       "    </tr>\n",
       "    <tr>\n",
       "      <th>2</th>\n",
       "      <td>2016-01-02</td>\n",
       "      <td>20.0</td>\n",
       "      <td>25.0</td>\n",
       "      <td>2016-01-02</td>\n",
       "      <td>20.0</td>\n",
       "      <td>38.0</td>\n",
       "      <td>Jan</td>\n",
       "      <td>2016</td>\n",
       "      <td>Business</td>\n",
       "      <td>Fort Pierce</td>\n",
       "      <td>Fort Pierce</td>\n",
       "      <td>7.724832</td>\n",
       "      <td>Errand/Supplies</td>\n",
       "      <td>13.0</td>\n",
       "      <td>35.653071</td>\n",
       "      <td>Saturday</td>\n",
       "      <td>Evening</td>\n",
       "    </tr>\n",
       "    <tr>\n",
       "      <th>3</th>\n",
       "      <td>2016-01-05</td>\n",
       "      <td>17.0</td>\n",
       "      <td>31.0</td>\n",
       "      <td>2016-01-05</td>\n",
       "      <td>17.0</td>\n",
       "      <td>45.0</td>\n",
       "      <td>Jan</td>\n",
       "      <td>2016</td>\n",
       "      <td>Business</td>\n",
       "      <td>Fort Pierce</td>\n",
       "      <td>Fort Pierce</td>\n",
       "      <td>7.563898</td>\n",
       "      <td>Meeting</td>\n",
       "      <td>14.0</td>\n",
       "      <td>32.416706</td>\n",
       "      <td>Tuesday</td>\n",
       "      <td>Afternoon</td>\n",
       "    </tr>\n",
       "    <tr>\n",
       "      <th>4</th>\n",
       "      <td>2016-01-06</td>\n",
       "      <td>14.0</td>\n",
       "      <td>42.0</td>\n",
       "      <td>2016-01-06</td>\n",
       "      <td>15.0</td>\n",
       "      <td>49.0</td>\n",
       "      <td>Jan</td>\n",
       "      <td>2016</td>\n",
       "      <td>Business</td>\n",
       "      <td>Fort Pierce</td>\n",
       "      <td>West Palm Beach</td>\n",
       "      <td>102.514958</td>\n",
       "      <td>Customer Visit</td>\n",
       "      <td>67.0</td>\n",
       "      <td>91.804440</td>\n",
       "      <td>Wednesday</td>\n",
       "      <td>Afternoon</td>\n",
       "    </tr>\n",
       "  </tbody>\n",
       "</table>\n",
       "</div>"
      ],
      "text/plain": [
       "  start_date  start_hour  start_minute   end_date  end_hour  end_minute month  \\\n",
       "0 2016-01-01        21.0          11.0 2016-01-01      21.0        17.0   Jan   \n",
       "1 2016-01-02         1.0          25.0 2016-01-02       1.0        37.0   Jan   \n",
       "2 2016-01-02        20.0          25.0 2016-01-02      20.0        38.0   Jan   \n",
       "3 2016-01-05        17.0          31.0 2016-01-05      17.0        45.0   Jan   \n",
       "4 2016-01-06        14.0          42.0 2016-01-06      15.0        49.0   Jan   \n",
       "\n",
       "   year  CATEGORY        START             STOP       MILES          PURPOSE  \\\n",
       "0  2016  Business  Fort Pierce      Fort Pierce    8.207634   Meal/Entertain   \n",
       "1  2016  Business  Fort Pierce      Fort Pierce    8.046700   Meal/Entertain   \n",
       "2  2016  Business  Fort Pierce      Fort Pierce    7.724832  Errand/Supplies   \n",
       "3  2016  Business  Fort Pierce      Fort Pierce    7.563898          Meeting   \n",
       "4  2016  Business  Fort Pierce  West Palm Beach  102.514958   Customer Visit   \n",
       "\n",
       "   duration      speed        day   day_time  \n",
       "0       6.0  82.076340     Friday    Evening  \n",
       "1      12.0  40.233500   Saturday      Night  \n",
       "2      13.0  35.653071   Saturday    Evening  \n",
       "3      14.0  32.416706    Tuesday  Afternoon  \n",
       "4      67.0  91.804440  Wednesday  Afternoon  "
      ]
     },
     "execution_count": 16,
     "metadata": {},
     "output_type": "execute_result"
    }
   ],
   "source": [
    "df.head()"
   ]
  },
  {
   "cell_type": "markdown",
   "id": "569655cc-0e78-40fa-90ea-db5304241568",
   "metadata": {},
   "source": [
    "## Visualization"
   ]
  },
  {
   "cell_type": "markdown",
   "id": "5338fc08-c1dd-46a7-beb9-b0c4c574a932",
   "metadata": {},
   "source": [
    "### wchich category book more  uber "
   ]
  },
  {
   "cell_type": "code",
   "execution_count": 21,
   "id": "85048923-05ee-45bd-aad7-13a915df7565",
   "metadata": {},
   "outputs": [
    {
     "data": {
      "text/plain": [
       "<Axes: xlabel='count', ylabel='CATEGORY'>"
      ]
     },
     "execution_count": 21,
     "metadata": {},
     "output_type": "execute_result"
    },
    {
     "data": {
      "image/png": "[encoded data removed]",
      "text/plain": [
       "<Figure size 2000x500 with 1 Axes>"
      ]
     },
     "metadata": {},
     "output_type": "display_data"
    }
   ],
   "source": [
    "import seaborn as sns\n",
    "plt.figure(figsize=(20,5))\n",
    "\n",
    "plt.subplot(1,2,1)  #plt.subplot(nrows, ncols, index)\n",
    "\n",
    "\n",
    "sns.countplot(df['CATEGORY'])\n",
    "\n"
   ]
  },
  {
   "cell_type": "markdown",
   "id": "d17c4b82-31a9-4958-a177-ca99c58db2c8",
   "metadata": {},
   "source": [
    "### purpose "
   ]
  },
  {
   "cell_type": "code",
   "execution_count": 19,
   "id": "841e7b9d-b752-4610-8b2e-a790e75773b6",
   "metadata": {},
   "outputs": [
    {
     "data": {
      "text/plain": [
       "<Axes: xlabel='count', ylabel='PURPOSE'>"
      ]
     },
     "execution_count": 19,
     "metadata": {},
     "output_type": "execute_result"
    },
    {
     "data": {
      "image/png": "[encoded data removed]",
      "text/plain": [
       "<Figure size 640x480 with 1 Axes>"
      ]
     },
     "metadata": {},
     "output_type": "display_data"
    }
   ],
   "source": [
    "plt.subplot(1,2,2)  #plt.subplot(nrows, ncols, index)\n",
    "sns.countplot(df['PURPOSE'])"
   ]
  },
  {
   "cell_type": "markdown",
   "id": "e509672e-bc72-42b9-bd54-52c8b7d55475",
   "metadata": {},
   "source": [
    "### at what time do people book"
   ]
  },
  {
   "cell_type": "code",
   "execution_count": 25,
   "id": "4a6f6ea2-7aec-4392-b01d-d10fdc6d606b",
   "metadata": {},
   "outputs": [
    {
     "data": {
      "text/plain": [
       "<Axes: xlabel='count', ylabel='day_time'>"
      ]
     },
     "execution_count": 25,
     "metadata": {},
     "output_type": "execute_result"
    },
    {
     "data": {
      "image/png": "[encoded data removed]",
      "text/plain": [
       "<Figure size 640x480 with 1 Axes>"
      ]
     },
     "metadata": {},
     "output_type": "display_data"
    }
   ],
   "source": [
    "sns.countplot(df['day_time'])"
   ]
  },
  {
   "cell_type": "markdown",
   "id": "d81c3b55-c486-428d-a650-5807e31a026b",
   "metadata": {},
   "source": [
    "### In which month do people book uber ride less frequently"
   ]
  },
  {
   "cell_type": "code",
   "execution_count": 30,
   "id": "347856eb-e844-44b0-bb3c-92c0fba7ff68",
   "metadata": {},
   "outputs": [],
   "source": [
    "#create a new month column\n",
    "\n",
    "# Ensure 'start_date' is datetime\n",
    "df['start_date'] = pd.to_datetime(df['start_date'])\n",
    "\n",
    "# Create a new column with numeric month\n",
    "df['Month'] = pd.DatetimeIndex(df['start_date']).month\n",
    "\n",
    "# Dictionary to convert numeric months to names\n",
    "month_label = {\n",
    "    1: 'January', 2: 'February', 3: 'March', 4: 'April',\n",
    "    5: 'May', 6: 'June', 7: 'July', 8: 'August',\n",
    "    9: 'September', 10: 'October', 11: 'November', 12: 'December'\n",
    "}\n",
    "\n",
    "# Map numeric month to label\n",
    "df['Month_Name'] = df['Month'].map(month_label)"
   ]
  },
  {
   "cell_type": "code",
   "execution_count": 31,
   "id": "fe6e5adc-0770-4d43-9592-d4a8025e496c",
   "metadata": {},
   "outputs": [
    {
     "data": {
      "text/html": [
       "<div>\n",
       "<style scoped>\n",
       "    .dataframe tbody tr th:only-of-type {\n",
       "        vertical-align: middle;\n",
       "    }\n",
       "\n",
       "    .dataframe tbody tr th {\n",
       "        vertical-align: top;\n",
       "    }\n",
       "\n",
       "    .dataframe thead th {\n",
       "        text-align: right;\n",
       "    }\n",
       "</style>\n",
       "<table border=\"1\" class=\"dataframe\">\n",
       "  <thead>\n",
       "    <tr style=\"text-align: right;\">\n",
       "      <th></th>\n",
       "      <th>start_date</th>\n",
       "      <th>start_hour</th>\n",
       "      <th>start_minute</th>\n",
       "      <th>end_date</th>\n",
       "      <th>end_hour</th>\n",
       "      <th>end_minute</th>\n",
       "      <th>month</th>\n",
       "      <th>year</th>\n",
       "      <th>CATEGORY</th>\n",
       "      <th>START</th>\n",
       "      <th>STOP</th>\n",
       "      <th>MILES</th>\n",
       "      <th>PURPOSE</th>\n",
       "      <th>duration</th>\n",
       "      <th>speed</th>\n",
       "      <th>day</th>\n",
       "      <th>day_time</th>\n",
       "      <th>Month</th>\n",
       "      <th>Month_Name</th>\n",
       "    </tr>\n",
       "  </thead>\n",
       "  <tbody>\n",
       "    <tr>\n",
       "      <th>0</th>\n",
       "      <td>2016-01-01</td>\n",
       "      <td>21.0</td>\n",
       "      <td>11.0</td>\n",
       "      <td>2016-01-01</td>\n",
       "      <td>21.0</td>\n",
       "      <td>17.0</td>\n",
       "      <td>Jan</td>\n",
       "      <td>2016</td>\n",
       "      <td>Business</td>\n",
       "      <td>Fort Pierce</td>\n",
       "      <td>Fort Pierce</td>\n",
       "      <td>8.207634</td>\n",
       "      <td>Meal/Entertain</td>\n",
       "      <td>6.0</td>\n",
       "      <td>82.076340</td>\n",
       "      <td>Friday</td>\n",
       "      <td>Evening</td>\n",
       "      <td>1</td>\n",
       "      <td>January</td>\n",
       "    </tr>\n",
       "    <tr>\n",
       "      <th>1</th>\n",
       "      <td>2016-01-02</td>\n",
       "      <td>1.0</td>\n",
       "      <td>25.0</td>\n",
       "      <td>2016-01-02</td>\n",
       "      <td>1.0</td>\n",
       "      <td>37.0</td>\n",
       "      <td>Jan</td>\n",
       "      <td>2016</td>\n",
       "      <td>Business</td>\n",
       "      <td>Fort Pierce</td>\n",
       "      <td>Fort Pierce</td>\n",
       "      <td>8.046700</td>\n",
       "      <td>Meal/Entertain</td>\n",
       "      <td>12.0</td>\n",
       "      <td>40.233500</td>\n",
       "      <td>Saturday</td>\n",
       "      <td>Night</td>\n",
       "      <td>1</td>\n",
       "      <td>January</td>\n",
       "    </tr>\n",
       "    <tr>\n",
       "      <th>2</th>\n",
       "      <td>2016-01-02</td>\n",
       "      <td>20.0</td>\n",
       "      <td>25.0</td>\n",
       "      <td>2016-01-02</td>\n",
       "      <td>20.0</td>\n",
       "      <td>38.0</td>\n",
       "      <td>Jan</td>\n",
       "      <td>2016</td>\n",
       "      <td>Business</td>\n",
       "      <td>Fort Pierce</td>\n",
       "      <td>Fort Pierce</td>\n",
       "      <td>7.724832</td>\n",
       "      <td>Errand/Supplies</td>\n",
       "      <td>13.0</td>\n",
       "      <td>35.653071</td>\n",
       "      <td>Saturday</td>\n",
       "      <td>Evening</td>\n",
       "      <td>1</td>\n",
       "      <td>January</td>\n",
       "    </tr>\n",
       "    <tr>\n",
       "      <th>3</th>\n",
       "      <td>2016-01-05</td>\n",
       "      <td>17.0</td>\n",
       "      <td>31.0</td>\n",
       "      <td>2016-01-05</td>\n",
       "      <td>17.0</td>\n",
       "      <td>45.0</td>\n",
       "      <td>Jan</td>\n",
       "      <td>2016</td>\n",
       "      <td>Business</td>\n",
       "      <td>Fort Pierce</td>\n",
       "      <td>Fort Pierce</td>\n",
       "      <td>7.563898</td>\n",
       "      <td>Meeting</td>\n",
       "      <td>14.0</td>\n",
       "      <td>32.416706</td>\n",
       "      <td>Tuesday</td>\n",
       "      <td>Afternoon</td>\n",
       "      <td>1</td>\n",
       "      <td>January</td>\n",
       "    </tr>\n",
       "    <tr>\n",
       "      <th>4</th>\n",
       "      <td>2016-01-06</td>\n",
       "      <td>14.0</td>\n",
       "      <td>42.0</td>\n",
       "      <td>2016-01-06</td>\n",
       "      <td>15.0</td>\n",
       "      <td>49.0</td>\n",
       "      <td>Jan</td>\n",
       "      <td>2016</td>\n",
       "      <td>Business</td>\n",
       "      <td>Fort Pierce</td>\n",
       "      <td>West Palm Beach</td>\n",
       "      <td>102.514958</td>\n",
       "      <td>Customer Visit</td>\n",
       "      <td>67.0</td>\n",
       "      <td>91.804440</td>\n",
       "      <td>Wednesday</td>\n",
       "      <td>Afternoon</td>\n",
       "      <td>1</td>\n",
       "      <td>January</td>\n",
       "    </tr>\n",
       "  </tbody>\n",
       "</table>\n",
       "</div>"
      ],
      "text/plain": [
       "  start_date  start_hour  start_minute   end_date  end_hour  end_minute month  \\\n",
       "0 2016-01-01        21.0          11.0 2016-01-01      21.0        17.0   Jan   \n",
       "1 2016-01-02         1.0          25.0 2016-01-02       1.0        37.0   Jan   \n",
       "2 2016-01-02        20.0          25.0 2016-01-02      20.0        38.0   Jan   \n",
       "3 2016-01-05        17.0          31.0 2016-01-05      17.0        45.0   Jan   \n",
       "4 2016-01-06        14.0          42.0 2016-01-06      15.0        49.0   Jan   \n",
       "\n",
       "   year  CATEGORY        START             STOP       MILES          PURPOSE  \\\n",
       "0  2016  Business  Fort Pierce      Fort Pierce    8.207634   Meal/Entertain   \n",
       "1  2016  Business  Fort Pierce      Fort Pierce    8.046700   Meal/Entertain   \n",
       "2  2016  Business  Fort Pierce      Fort Pierce    7.724832  Errand/Supplies   \n",
       "3  2016  Business  Fort Pierce      Fort Pierce    7.563898          Meeting   \n",
       "4  2016  Business  Fort Pierce  West Palm Beach  102.514958   Customer Visit   \n",
       "\n",
       "   duration      speed        day   day_time  Month Month_Name  \n",
       "0       6.0  82.076340     Friday    Evening      1    January  \n",
       "1      12.0  40.233500   Saturday      Night      1    January  \n",
       "2      13.0  35.653071   Saturday    Evening      1    January  \n",
       "3      14.0  32.416706    Tuesday  Afternoon      1    January  \n",
       "4      67.0  91.804440  Wednesday  Afternoon      1    January  "
      ]
     },
     "execution_count": 31,
     "metadata": {},
     "output_type": "execute_result"
    }
   ],
   "source": [
    "df.head()"
   ]
  },
  {
   "cell_type": "code",
   "execution_count": 37,
   "id": "3bd48241-ee7f-49a2-874a-5973b42f8841",
   "metadata": {},
   "outputs": [
    {
     "data": {
      "text/plain": [
       "<Axes: xlabel='count', ylabel='Month_Name'>"
      ]
     },
     "execution_count": 37,
     "metadata": {},
     "output_type": "execute_result"
    },
    {
     "data": {
      "image/png": "[encoded data removed]",
      "text/plain": [
       "<Figure size 640x480 with 1 Axes>"
      ]
     },
     "metadata": {},
     "output_type": "display_data"
    }
   ],
   "source": [
    "sns.countplot(df['Month_Name'])"
   ]
  },
  {
   "cell_type": "code",
   "execution_count": 35,
   "id": "ca1ea69f-b845-478a-a483-3a4d8c748619",
   "metadata": {},
   "outputs": [
    {
     "name": "stderr",
     "output_type": "stream",
     "text": [
      "C:\\Users\\fuath\\AppData\\Local\\Temp\\ipykernel_14412\\3640860255.py:9: FutureWarning: \n",
      "\n",
      "Passing `palette` without assigning `hue` is deprecated and will be removed in v0.14.0. Assign the `x` variable to `hue` and set `legend=False` for the same effect.\n",
      "\n",
      "  sns.barplot(x=monthly_counts.index, y=monthly_counts.values, palette='crest')\n"
     ]
    },
    {
     "data": {
      "image/png": "[encoded data removed]",
      "text/plain": [
       "<Figure size 1000x600 with 1 Axes>"
      ]
     },
     "metadata": {},
     "output_type": "display_data"
    }
   ],
   "source": [
    "\n",
    "# Count number of trips per month\n",
    "monthly_counts = df['Month_Name'].value_counts().sort_index()\n",
    "\n",
    "# Plot\n",
    "plt.figure(figsize=(10, 6))\n",
    "sns.barplot(x=monthly_counts.index, y=monthly_counts.values, palette='crest')\n",
    "\n",
    "# Highlight the least booked month\n",
    "min_month = monthly_counts.idxmin()\n",
    "min_value = monthly_counts.min()\n",
    "\n",
    "plt.title(\"Number of Uber Rides per Month\", fontsize=16)\n",
    "plt.xlabel(\"Month\")\n",
    "plt.ylabel(\"Number of Rides\")\n",
    "plt.xticks(rotation=45)\n",
    "\n",
    "# Annotate the month with the least rides\n",
    "plt.text(x=monthly_counts.index.tolist().index(min_month),\n",
    "         y=min_value + 1,\n",
    "         s=f\"↓ Least: {min_month}\",\n",
    "         color='red', fontsize=12, ha='center')\n",
    "\n",
    "plt.tight_layout()\n",
    "plt.show()\n"
   ]
  },
  {
   "cell_type": "markdown",
   "id": "4225b9ef-4dce-4e5a-8c94-3221bac681d7",
   "metadata": {},
   "source": [
    "### on wchich days of week people book uber more"
   ]
  },
  {
   "cell_type": "code",
   "execution_count": 38,
   "id": "e7e6c7c9-f7ee-4f86-9c66-3c73a5f431af",
   "metadata": {},
   "outputs": [
    {
     "name": "stderr",
     "output_type": "stream",
     "text": [
      "C:\\Users\\fuath\\AppData\\Local\\Temp\\ipykernel_14412\\2965201891.py:8: FutureWarning: \n",
      "\n",
      "Passing `palette` without assigning `hue` is deprecated and will be removed in v0.14.0. Assign the `x` variable to `hue` and set `legend=False` for the same effect.\n",
      "\n",
      "  sns.barplot(x=day_counts.index, y=day_counts.values, palette='viridis')\n"
     ]
    },
    {
     "data": {
      "image/png": "[encoded data removed]",
      "text/plain": [
       "<Figure size 1000x600 with 1 Axes>"
      ]
     },
     "metadata": {},
     "output_type": "display_data"
    }
   ],
   "source": [
    "\n",
    "\n",
    "# Count number of rides per day of the week\n",
    "day_counts = df['day'].value_counts().reindex([\n",
    "    'Monday', 'Tuesday', 'Wednesday', 'Thursday', 'Friday', 'Saturday', 'Sunday'\n",
    "])\n",
    "\n",
    "# Plot the results\n",
    "plt.figure(figsize=(10, 6))\n",
    "sns.barplot(x=day_counts.index, y=day_counts.values, palette='viridis')\n",
    "\n",
    "# Add titles and labels\n",
    "plt.title(\"Number of Uber Rides by Day of the Week\", fontsize=16)\n",
    "plt.xlabel(\"Day of the Week\")\n",
    "plt.ylabel(\"Number of Rides\")\n",
    "\n",
    "# Annotate highest booking day\n",
    "max_day = day_counts.idxmax()\n",
    "max_value = day_counts.max()\n",
    "plt.text(x=day_counts.index.tolist().index(max_day),\n",
    "         y=max_value + 1,\n",
    "         s=f\"↑ Most: {max_day}\",\n",
    "         color='green', fontsize=12, ha='center')\n",
    "\n",
    "plt.tight_layout()\n",
    "plt.show()\n"
   ]
  },
  {
   "cell_type": "markdown",
   "id": "b8f6aaae-d60d-43c2-9c8e-95647fd41ebe",
   "metadata": {},
   "source": [
    "### how many miles do people usually book a cab for through uber"
   ]
  },
  {
   "cell_type": "code",
   "execution_count": 40,
   "id": "3066a8ee-d144-4df5-890a-d53a79be2f11",
   "metadata": {},
   "outputs": [
    {
     "name": "stdout",
     "output_type": "stream",
     "text": [
      "Average distance (mean): 16.295801656441718\n",
      "Median distance: 9.495106\n",
      "Most frequent distance (mode): 4.9889540000000006\n",
      "Minimum distance: 0.80467\n",
      "Maximum distance: 499.378202\n",
      "Standard deviation: 31.92902661883507\n"
     ]
    }
   ],
   "source": [
    "# Basic statistics for distance\n",
    "print(\"Average distance (mean):\", df['MILES'].mean())\n",
    "print(\"Median distance:\", df['MILES'].median())\n",
    "print(\"Most frequent distance (mode):\", df['MILES'].mode()[0])\n",
    "print(\"Minimum distance:\", df['MILES'].min())\n",
    "print(\"Maximum distance:\", df['MILES'].max())\n",
    "print(\"Standard deviation:\", df['MILES'].std())\n"
   ]
  },
  {
   "cell_type": "code",
   "execution_count": 41,
   "id": "c83101b0-0ed5-4488-a6e1-e5ded7df550c",
   "metadata": {},
   "outputs": [
    {
     "name": "stdout",
     "output_type": "stream",
     "text": [
      "distance_range\n",
      "0-5       344\n",
      "5-10      269\n",
      "10-20     308\n",
      "20-50     172\n",
      "50-100     26\n",
      "100+       22\n",
      "Name: count, dtype: int64\n"
     ]
    }
   ],
   "source": [
    "# Create distance bins\n",
    "bins = [0, 5, 10, 20, 50, 100, df['MILES'].max()]\n",
    "labels = ['0-5', '5-10', '10-20', '20-50', '50-100', '100+']\n",
    "\n",
    "df['distance_range'] = pd.cut(df['MILES'], bins=bins, labels=labels)\n",
    "\n",
    "# Count how many trips fall in each range\n",
    "range_counts = df['distance_range'].value_counts().sort_index()\n",
    "print(range_counts)\n"
   ]
  },
  {
   "cell_type": "code",
   "execution_count": 42,
   "id": "b0025d21-ea87-40b9-8bd8-ab9d2ebe3307",
   "metadata": {},
   "outputs": [
    {
     "name": "stderr",
     "output_type": "stream",
     "text": [
      "C:\\Users\\fuath\\AppData\\Local\\Temp\\ipykernel_14412\\1245148022.py:2: FutureWarning: \n",
      "\n",
      "Passing `palette` without assigning `hue` is deprecated and will be removed in v0.14.0. Assign the `x` variable to `hue` and set `legend=False` for the same effect.\n",
      "\n",
      "  sns.barplot(x=range_counts.index, y=range_counts.values, palette='Blues')\n"
     ]
    },
    {
     "data": {
      "image/png": "[encoded data removed]",
      "text/plain": [
       "<Figure size 800x500 with 1 Axes>"
      ]
     },
     "metadata": {},
     "output_type": "display_data"
    }
   ],
   "source": [
    "plt.figure(figsize=(8, 5))\n",
    "sns.barplot(x=range_counts.index, y=range_counts.values, palette='Blues')\n",
    "\n",
    "plt.title(\"Trip Distance Distribution (in Miles)\", fontsize=14)\n",
    "plt.xlabel(\"Distance Range (miles)\")\n",
    "plt.ylabel(\"Number of Trips\")\n",
    "plt.tight_layout()\n",
    "plt.show()"
   ]
  },
  {
   "cell_type": "code",
   "execution_count": null,
   "id": "619aa616-7eda-4940-a151-ae90dc67a0a0",
   "metadata": {},
   "outputs": [],
   "source": []
  }
 ],
 "metadata": {
  "kernelspec": {
   "display_name": "Python 3 (ipykernel)",
   "language": "python",
   "name": "python3"
  },
  "language_info": {
   "codemirror_mode": {
    "name": "ipython",
    "version": 3
   },
   "file_extension": ".py",
   "mimetype": "text/x-python",
   "name": "python",
   "nbconvert_exporter": "python",
   "pygments_lexer": "ipython3",
   "version": "3.10.8"
  },
  "widgets": {
   "application/vnd.jupyter.widget-state+json": {
    "state": {},
    "version_major": 2,
    "version_minor": 0
   }
  }
 },
 "nbformat": 4,
 "nbformat_minor": 5
}
